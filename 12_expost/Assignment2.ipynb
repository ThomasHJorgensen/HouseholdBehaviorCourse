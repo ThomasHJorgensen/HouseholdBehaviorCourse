{
 "cells": [
  {
   "attachments": {},
   "cell_type": "markdown",
   "metadata": {},
   "source": [
    "# Life-Cycle Labor Supply of Couples"
   ]
  },
  {
   "attachments": {},
   "cell_type": "markdown",
   "metadata": {},
   "source": [
    "Solves and simulates a $T$-period labor supply model with two-earner couples. <br>\n",
    "**Motivated** by the study “Are Marriage-Related Taxes and Social Security Benefits Holding Back Female Labor Supply?” by Borella et al. (forthcoming). <br>\n",
    "**Goal** is to replicate effects of individual vs. joint taxation.\n",
    "\n",
    "For simplicity, couples cannot divorce nor save.\n",
    "\n",
    "The **Bellman equation** and the recursive formulation of our simple model is \n",
    "$$\n",
    "\\begin{align*}\n",
    "V_{t}(K_{1,t},K_{2,t}) & =\\max_{h_{1,t},h_{2,t}}U(c_{t},h_{1,t},h_{2,t})+\\beta V_{t+1}(K_{1,t+1},K_{2,t+1})\\\\\n",
    "c_{t} & =\\sum_{j=1}^{2}w_{j,t}h_{j,t}-T(w_{1,t}h_{1,t},w_{2,t}h_{2,t})\\\\\n",
    "\\log w_{j,t} & =\\alpha_{j,0}+\\alpha_{j,1}K_{j,t},\\;j\\in\\{1,2\\}\\\\\n",
    "K_{j,t+1} & =(1-\\delta)K_{j,t}+h_{j,t},\\;j\\in\\{1,2\\}\n",
    "\\end{align*}\n",
    "$$\n",
    "\n",
    "**Preferences** are sum of individuals\n",
    "$$\n",
    "U(c_{t},h_{1,t},h_{2,t})=2\\frac{(c_{t}/2)^{1+\\eta}}{1+\\eta}-\\rho_{1}\\frac{h_{1,t}^{1+\\gamma}}{1+\\gamma}-\\rho_{2}\\frac{h_{2,t}^{1+\\gamma}}{1+\\gamma}\n",
    "$$\n",
    "\n",
    "**Taxes** are on the household level\n",
    "$$\n",
    "T(Y_{1},Y_{2})=(1-\\lambda(Y_{1}+Y_{2})^{-\\tau})\\cdot(Y_{1}+Y_{2})\n",
    "$$\n",
    "\n",
    "**Terminal period:** There are no bequests such that\n",
    "$$\n",
    "V_{T}(K_{1,T},K_{2,T})  =\\max_{h_{1,T},h_{2,T}}U(c_{T},h_{1,T},h_{2,T})\n",
    "$$"
   ]
  },
  {
   "cell_type": "markdown",
   "metadata": {},
   "source": [
    "## Setup"
   ]
  },
  {
   "cell_type": "code",
   "execution_count": 1,
   "metadata": {},
   "outputs": [],
   "source": [
    "%load_ext autoreload\n",
    "%autoreload 2\n",
    "import numpy as np\n",
    "import numba as nb\n",
    "import matplotlib.pyplot as plt"
   ]
  },
  {
   "cell_type": "markdown",
   "metadata": {},
   "source": [
    "# Consumption-Saving Model"
   ]
  },
  {
   "cell_type": "code",
   "execution_count": 2,
   "metadata": {},
   "outputs": [],
   "source": [
    "# load local model file and initialize model class\n",
    "from DynHouseholdLaborModel import DynHouseholdLaborModelClass\n",
    "model = DynHouseholdLaborModelClass()\n",
    "\n",
    "par = model.par\n",
    "sol = model.sol\n",
    "sim = model.sim"
   ]
  },
  {
   "cell_type": "markdown",
   "metadata": {},
   "source": [
    "## Estimation.\n",
    "Imagine that labor supply in the data is 0.7 for member 1 and 0.65 for member 2 in the first period (say, age 25)."
   ]
  },
  {
   "cell_type": "code",
   "execution_count": 3,
   "metadata": {},
   "outputs": [
    {
     "name": "stdout",
     "output_type": "stream",
     "text": [
      "rho_1:0.040 rho_2:0.030 -> obj = 0.0353346\n"
     ]
    }
   ],
   "source": [
    "theta_names = ('rho_1','rho_2') # names (list) of parameters to estimate\n",
    "theta = np.array([0.04,0.03]) # parameter vector (array)\n",
    "data_moments = np.array([0.7,0.65]) # moments to match (from Statistics Denmark, say)\n",
    "\n",
    "def obj_func(theta,theta_names,data_moments,model_in):\n",
    "    model = model_in.copy() # safety measure\n",
    "\n",
    "    # set the current parameters\n",
    "    for p,par_name in enumerate(theta_names):\n",
    "        setattr(model.par, par_name, theta[p])\n",
    "        print(f'{par_name}:{theta[p]:2.3f} ',end='')\n",
    "\n",
    "    # solve the model for these parameters\n",
    "    model.solve()\n",
    "\n",
    "    # simulate the model using this solution\n",
    "    model.simulate()\n",
    "\n",
    "    # calculate the relevant moments\n",
    "    h1 = np.mean(model.sim.h1[:,0])\n",
    "    h2 = np.mean(model.sim.h2[:,0])\n",
    "    sim_moments = np.array([h1,h2])\n",
    "\n",
    "    # return the the objective function\n",
    "    W = np.eye(2)\n",
    "    diff = data_moments - sim_moments\n",
    "    obj = diff.T @ W @ diff\n",
    "\n",
    "    print(f'-> obj = {obj:2.7f}')\n",
    "    return obj\n",
    "    \n",
    "# test objective function    \n",
    "obj = obj_func(theta,theta_names,data_moments,model)"
   ]
  },
  {
   "cell_type": "code",
   "execution_count": 4,
   "metadata": {},
   "outputs": [
    {
     "name": "stdout",
     "output_type": "stream",
     "text": [
      "rho_1:0.050 rho_2:0.050 -> obj = 0.0032287\n",
      "rho_1:0.053 rho_2:0.050 -> obj = 0.0035925\n",
      "rho_1:0.050 rho_2:0.053 -> obj = 0.0020226\n",
      "rho_1:0.048 rho_2:0.053 -> obj = 0.0021687\n",
      "rho_1:0.048 rho_2:0.055 -> obj = 0.0015151\n",
      "rho_1:0.046 rho_2:0.058 -> obj = 0.0015704\n",
      "rho_1:0.050 rho_2:0.055 -> obj = 0.0012030\n",
      "rho_1:0.051 rho_2:0.056 -> obj = 0.0008633\n",
      "rho_1:0.049 rho_2:0.059 -> obj = 0.0007679\n",
      "rho_1:0.048 rho_2:0.062 -> obj = 0.0009409\n",
      "rho_1:0.052 rho_2:0.060 -> obj = 0.0002334\n",
      "rho_1:0.055 rho_2:0.062 -> obj = 0.0000629\n",
      "rho_1:0.052 rho_2:0.065 -> obj = 0.0001544\n",
      "rho_1:0.059 rho_2:0.069 -> obj = 0.0003107\n",
      "rho_1:0.056 rho_2:0.066 -> obj = 0.0000535\n",
      "rho_1:0.059 rho_2:0.064 -> obj = 0.0003838\n",
      "rho_1:0.054 rho_2:0.065 -> obj = 0.0000169\n",
      "rho_1:0.055 rho_2:0.068 -> obj = 0.0001994\n",
      "rho_1:0.055 rho_2:0.064 -> obj = 0.0000074\n",
      "rho_1:0.053 rho_2:0.062 -> obj = 0.0000688\n",
      "rho_1:0.055 rho_2:0.065 -> obj = 0.0000126\n",
      "rho_1:0.056 rho_2:0.065 -> obj = 0.0000583\n",
      "rho_1:0.055 rho_2:0.065 -> obj = 0.0000019\n",
      "rho_1:0.054 rho_2:0.063 -> obj = 0.0000108\n",
      "rho_1:0.055 rho_2:0.064 -> obj = 0.0000029\n",
      "rho_1:0.054 rho_2:0.065 -> obj = 0.0000087\n",
      "rho_1:0.055 rho_2:0.064 -> obj = 0.0000018\n",
      "rho_1:0.055 rho_2:0.065 -> obj = 0.0000041\n",
      "rho_1:0.055 rho_2:0.064 -> obj = 0.0000006\n",
      "rho_1:0.055 rho_2:0.064 -> obj = 0.0000116\n",
      "rho_1:0.055 rho_2:0.064 -> obj = 0.0000000\n",
      "rho_1:0.055 rho_2:0.064 -> obj = 0.0000009\n",
      "rho_1:0.055 rho_2:0.064 -> obj = 0.0000002\n",
      "rho_1:0.055 rho_2:0.065 -> obj = 0.0000013\n",
      "rho_1:0.055 rho_2:0.064 -> obj = 0.0000001\n",
      "rho_1:0.055 rho_2:0.064 -> obj = 0.0000001\n",
      "rho_1:0.055 rho_2:0.064 -> obj = 0.0000000\n"
     ]
    }
   ],
   "source": [
    "# call an optimizer\n",
    "from scipy.optimize import minimize\n",
    "\n",
    "init_theta = np.array([0.05,0.05])\n",
    "res = minimize(obj_func,init_theta,args=(theta_names,data_moments,model),method='nelder-mead')"
   ]
  },
  {
   "cell_type": "code",
   "execution_count": 5,
   "metadata": {},
   "outputs": [
    {
     "data": {
      "text/plain": [
       "array([0.05472504, 0.06430852])"
      ]
     },
     "execution_count": 5,
     "metadata": {},
     "output_type": "execute_result"
    }
   ],
   "source": [
    "# estimated parameters\n",
    "res.x"
   ]
  }
 ],
 "metadata": {
  "kernelspec": {
   "display_name": "Python 3",
   "language": "python",
   "name": "python3"
  },
  "language_info": {
   "codemirror_mode": {
    "name": "ipython",
    "version": 3
   },
   "file_extension": ".py",
   "mimetype": "text/x-python",
   "name": "python",
   "nbconvert_exporter": "python",
   "pygments_lexer": "ipython3",
   "version": "3.8.10"
  },
  "toc-autonumbering": true,
  "vscode": {
   "interpreter": {
    "hash": "2a1ca330d9582a7d9f549c991d1ebe88efa30325a2a9c927421566fc2176e6bd"
   }
  }
 },
 "nbformat": 4,
 "nbformat_minor": 4
}
