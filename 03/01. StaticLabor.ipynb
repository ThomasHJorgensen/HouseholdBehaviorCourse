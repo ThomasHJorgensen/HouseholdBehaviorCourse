{
 "cells": [
  {
   "cell_type": "markdown",
   "metadata": {},
   "source": [
    "# Static Labor Supply"
   ]
  },
  {
   "cell_type": "markdown",
   "metadata": {},
   "source": [
    "# Setup"
   ]
  },
  {
   "cell_type": "code",
   "execution_count": 103,
   "metadata": {},
   "outputs": [],
   "source": [
    "import numpy as np\n",
    "from scipy.optimize import minimize\n",
    "\n",
    "import matplotlib.pyplot as plt\n",
    "\n",
    "from consav.linear_interp import interp_1d"
   ]
  },
  {
   "cell_type": "markdown",
   "metadata": {},
   "source": [
    "## Utility and Parameters"
   ]
  },
  {
   "cell_type": "code",
   "execution_count": 104,
   "metadata": {},
   "outputs": [],
   "source": [
    "# utility\n",
    "def util(h,w,N,par):\n",
    "    C = income(h,w,N,par)\n",
    "    return (C**(1.0+par.eta))/(1.0+par.eta) - par.beta*(h**(1.0+par.gamma))/(1.0+par.gamma)\n",
    "\n",
    "# income\n",
    "def income(h,w,N,par):\n",
    "    return (1.0-par.tau)*w*h + N\n",
    "\n",
    "# solution\n",
    "def solve(N,par):\n",
    "\n",
    "    h = np.nan + np.ones(par.w_grid.size)\n",
    "    for iw,w in enumerate(par.w_grid):\n",
    "        obj = lambda h: -util(h,w,N,par)\n",
    "        h_init = np.array([2.0])\n",
    "\n",
    "        bounds = ((0.0,200.0),)\n",
    "\n",
    "        res = minimize(obj,h_init,bounds=bounds,method='SLSQP')\n",
    "        h[iw] = res.x[0]\n",
    "        \n",
    "    return h"
   ]
  },
  {
   "cell_type": "code",
   "execution_count": 105,
   "metadata": {},
   "outputs": [],
   "source": [
    "# parameters \n",
    "class par: pass\n",
    "par.beta = 0.1\n",
    "par.eta = -2.0\n",
    "par.gamma = 2.5\n",
    "par.tau = 0.1"
   ]
  },
  {
   "cell_type": "markdown",
   "metadata": {},
   "source": [
    "## In-Class Exercise\n",
    "1. Look at the code and talk about it with the person next to you for 5 minutes\n",
    "2. Write at least one question"
   ]
  },
  {
   "cell_type": "markdown",
   "metadata": {},
   "source": [
    "## Solve Static Model on Grid of Wages, $w$"
   ]
  },
  {
   "cell_type": "code",
   "execution_count": 106,
   "metadata": {},
   "outputs": [],
   "source": [
    "# find optimal labor supply as a function of wages\n",
    "par.w_grid = np.linspace(1.0,20.0,100)\n",
    "\n",
    "N = 5.0 # non-labor income. Important for strength of income effect\n",
    "sol_h = solve(N,par)"
   ]
  },
  {
   "cell_type": "code",
   "execution_count": 107,
   "metadata": {},
   "outputs": [
    {
     "data": {
      "image/png": "[encoded data removed]",
      "text/plain": [
       "<Figure size 432x288 with 1 Axes>"
      ]
     },
     "metadata": {
      "needs_background": "light"
     },
     "output_type": "display_data"
    }
   ],
   "source": [
    "# plot solution\n",
    "fig, ax = plt.subplots()\n",
    "ax.plot(par.w_grid,sol_h,marker='o');\n",
    "ax.set(xlabel='wages, $w$',ylabel='Hours, $h^{\\star}$');"
   ]
  },
  {
   "cell_type": "markdown",
   "metadata": {},
   "source": [
    "**Question 1:** At what level of wages does the income effect start to dominate?\n",
    "\n",
    "**Question 2:** Plot the solution for different levels of non-labor income, $N$. How does the optimal behavior change? What about the income effect?"
   ]
  },
  {
   "cell_type": "markdown",
   "metadata": {},
   "source": [
    "## Simulation\n",
    "To simulate from this model, we need a level of non-labor income, $N$, and a wage level, $w$. We will primarely focus on the latter. \n",
    "\n",
    "The simulation here is simple, since we just need to *interpolate* the found solution for the new value of $w$ which is likely not on the grid `par.w_grid`, for which we have calculated the solution."
   ]
  },
  {
   "cell_type": "code",
   "execution_count": 108,
   "metadata": {},
   "outputs": [],
   "source": [
    "def simulate(wi,sol_h,par):\n",
    "    return interp_1d(par.w_grid,sol_h,wi)"
   ]
  },
  {
   "cell_type": "markdown",
   "metadata": {},
   "source": [
    "## Elasticities\n",
    "**Marshall**"
   ]
  },
  {
   "cell_type": "code",
   "execution_count": 109,
   "metadata": {},
   "outputs": [],
   "source": [
    "# Theoretical Marshall elasticities\n",
    "S = ((1-par.tau)*par.w_grid*sol_h) / ((1-par.tau)*par.w_grid*sol_h + N)\n",
    "ela_M = (1+par.eta*S) / (par.gamma - par.eta*S)"
   ]
  },
  {
   "cell_type": "code",
   "execution_count": 110,
   "metadata": {},
   "outputs": [],
   "source": [
    "# Simulate one point on this curve. One observation is enough because no heterogeneity\n",
    "w = 5.0\n",
    "h_sim_base = simulate(w,sol_h,par) \n",
    "h_sim_1pct = simulate(w*1.01,sol_h,par) \n",
    "\n",
    "ela_M_sim = (h_sim_1pct-h_sim_base)/h_sim_base*100"
   ]
  },
  {
   "cell_type": "code",
   "execution_count": 111,
   "metadata": {},
   "outputs": [
    {
     "data": {
      "image/png": "[encoded data removed]",
      "text/plain": [
       "<Figure size 432x288 with 1 Axes>"
      ]
     },
     "metadata": {
      "needs_background": "light"
     },
     "output_type": "display_data"
    }
   ],
   "source": [
    "# plot\n",
    "fig, ax = plt.subplots()\n",
    "ax.plot(par.w_grid,ela_M,label='Theoretical');\n",
    "ax.scatter(w,ela_M_sim,color='red',label='Simulated');\n",
    "ax.set(xlabel='wages, $w$',ylabel='Marshall, $e_{M}$');\n",
    "ax.legend();"
   ]
  },
  {
   "cell_type": "markdown",
   "metadata": {},
   "source": [
    "**Income effect**"
   ]
  },
  {
   "cell_type": "code",
   "execution_count": 112,
   "metadata": {},
   "outputs": [],
   "source": [
    "# Theoretical\n",
    "ei = par.eta*S/(par.gamma - par.eta*S) "
   ]
  },
  {
   "cell_type": "code",
   "execution_count": 113,
   "metadata": {},
   "outputs": [],
   "source": [
    "# Solve and simulate model with slightly higher non-labor income\n",
    "h_N = solve(N*1.01,par)\n",
    "h_sim_1pct_N = simulate(w,h_N,par)\n",
    "\n",
    "ela_I_sim = (h_sim_1pct_N-h_sim_base)/h_sim_base*100\n",
    "ei_sim = w*h_sim_base*(1-par.tau)* ela_I_sim / N"
   ]
  },
  {
   "cell_type": "code",
   "execution_count": 114,
   "metadata": {},
   "outputs": [
    {
     "data": {
      "image/png": "[encoded data removed]",
      "text/plain": [
       "<Figure size 432x288 with 1 Axes>"
      ]
     },
     "metadata": {
      "needs_background": "light"
     },
     "output_type": "display_data"
    }
   ],
   "source": [
    "# plot\n",
    "fig, ax = plt.subplots()\n",
    "ax.plot(par.w_grid,ei,label='Theoretical');\n",
    "ax.scatter(w,ei_sim,color='red',label='Simulated');\n",
    "ax.set(xlabel='wages, $w$',ylabel='Income effect, $ei$');\n",
    "ax.legend();"
   ]
  },
  {
   "cell_type": "markdown",
   "metadata": {},
   "source": [
    "**Hicks, compensated elasticity**"
   ]
  },
  {
   "cell_type": "code",
   "execution_count": 115,
   "metadata": {},
   "outputs": [],
   "source": [
    "# Theoretical\n",
    "ela_H = 1/(par.gamma - par.eta*S)"
   ]
  },
  {
   "cell_type": "code",
   "execution_count": 116,
   "metadata": {},
   "outputs": [],
   "source": [
    "# Hicks: Compensate (or use Slutsky, which is much easier)\n",
    "def util_diff(comp,h_base,w,N,par):\n",
    "    \n",
    "    util_base = util(h_base,w,N,par)\n",
    "    \n",
    "    # alternative model: increase wage by 1% but compensate via non-labor income\n",
    "    N_alt = N + comp\n",
    "    w_alt = w*1.01\n",
    "    \n",
    "    h_alt_vec = solve(N_alt,par)\n",
    "    h_alt = simulate(w_alt,h_alt_vec,par)\n",
    "    util_alt = util(h_alt,w_alt,N_alt,par)\n",
    "    \n",
    "    return util_base - util_alt"
   ]
  },
  {
   "cell_type": "code",
   "execution_count": 117,
   "metadata": {},
   "outputs": [],
   "source": [
    "# find the compensation that equalize utility to baseline level\n",
    "obj = lambda comp: 1000.0*util_diff(comp,h_sim_base,w,N,par)**2 # squared utility difference (scaled)\n",
    "res = minimize(obj,0.0)\n",
    "comp = res.x[0]\n",
    "\n",
    "print(f'Compensation: {comp:2.4f}. Resulting utility difference: {util_diff(comp,h_sim_base,w,N,par):2.2g}')"
   ]
  },
  {
   "cell_type": "code",
   "execution_count": null,
   "metadata": {},
   "outputs": [],
   "source": [
    "# calculate elasticity with this level of compensation\n",
    "h_H = solve(N+comp,par)\n",
    "h_sim_1pct_H = simulate(w*1.01,h_H,par)\n",
    "ela_H_sim = (h_sim_1pct_H-h_sim_base)/h_sim_base*100"
   ]
  },
  {
   "cell_type": "code",
   "execution_count": null,
   "metadata": {},
   "outputs": [
    {
     "data": {
      "image/png": "[encoded data removed]",
      "text/plain": [
       "<Figure size 432x288 with 1 Axes>"
      ]
     },
     "metadata": {
      "needs_background": "light"
     },
     "output_type": "display_data"
    }
   ],
   "source": [
    "# plot\n",
    "fig, ax = plt.subplots()\n",
    "ax.plot(par.w_grid,ela_H,label='Theoretical');\n",
    "ax.scatter(w,ela_H_sim,color='red',label='Simulated');\n",
    "ax.set(xlabel='wages, $w$',ylabel='Hicks, $e_H$');\n",
    "ax.legend();"
   ]
  },
  {
   "cell_type": "markdown",
   "metadata": {},
   "source": [
    "## In-Class Exercise\n",
    "Imagine that there is 1,000 heterogeneous agents with individual levels of wages, $w_i$ for $i=1,\\dots,1,000$. The distribution of wages is uniform on $[2.5,10.0]$. \n",
    "\n",
    "What is the average Marshall elasticity in the population? <br>\n",
    "\\[*hint:* you can calculate this by simulation using `np.randon.uniform`\\]"
   ]
  },
  {
   "cell_type": "code",
   "execution_count": null,
   "id": "ae85e509",
   "metadata": {},
   "outputs": [],
   "source": [
    "# WRITE YOUR CODE HERE"
   ]
  },
  {
   "cell_type": "markdown",
   "id": "07acc118",
   "metadata": {},
   "source": [
    "## solution"
   ]
  },
  {
   "cell_type": "code",
   "execution_count": null,
   "metadata": {},
   "outputs": [
    {
     "name": "stdout",
     "output_type": "stream",
     "text": [
      "Average Marshall: -inf\n"
     ]
    },
    {
     "name": "stderr",
     "output_type": "stream",
     "text": [
      "<ipython-input-95-82c6311feb6b>:16: RuntimeWarning: overflow encountered in multiply\n",
      "  ela_M_i = (hi_1pct-hi_base)/hi_base*100\n"
     ]
    }
   ],
   "source": [
    "# solution\n",
    "n = 1_000\n",
    "\n",
    "# draw uniform wages\n",
    "np.random.seed(2023)\n",
    "wi = np.random.uniform(2.5,10.0,size=n)\n",
    "\n",
    "# find baseline optimal labor supply and alternative\n",
    "hi_base = np.nan + np.ones(n)\n",
    "hi_1pct = np.nan + np.ones(n)\n",
    "for i in range(n):\n",
    "    hi_base[i] = simulate(wi[i],h,par)\n",
    "    hi_1pct[i] = simulate(wi[i]*1.01,h,par)\n",
    "    \n",
    "# individual elasticities\n",
    "ela_M_i = (hi_1pct-hi_base)/hi_base*100\n",
    "\n",
    "# average\n",
    "print(f'Average Marshall: {np.mean(ela_M_i):2.3f}')"
   ]
  },
  {
   "cell_type": "code",
   "execution_count": null,
   "metadata": {},
   "outputs": [
    {
     "data": {
      "image/png": "[encoded data removed]",
      "text/plain": [
       "<Figure size 432x288 with 1 Axes>"
      ]
     },
     "metadata": {
      "needs_background": "light"
     },
     "output_type": "display_data"
    }
   ],
   "source": [
    "# plot individual with theoretical\n",
    "fig, ax = plt.subplots()\n",
    "ax.plot(par.w_grid,ela_M,label='Theoretical');\n",
    "ax.scatter(wi,ela_M_i,color='red',label='Simulated');\n",
    "ax.set(xlabel='wages, $w$',ylabel='Marshall, $e_{M}$');\n",
    "ax.legend();"
   ]
  }
 ],
 "metadata": {
  "kernelspec": {
   "display_name": "Python 3",
   "language": "python",
   "name": "python3"
  },
  "language_info": {
   "codemirror_mode": {
    "name": "ipython",
    "version": 3
   },
   "file_extension": ".py",
   "mimetype": "text/x-python",
   "name": "python",
   "nbconvert_exporter": "python",
   "pygments_lexer": "ipython3",
   "version": "3.8.3"
  }
 },
 "nbformat": 4,
 "nbformat_minor": 5
}
