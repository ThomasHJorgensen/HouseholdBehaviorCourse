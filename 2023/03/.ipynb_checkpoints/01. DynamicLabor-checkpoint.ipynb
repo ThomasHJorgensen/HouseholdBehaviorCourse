{
 "cells": [
  {
   "cell_type": "code",
   "execution_count": 1,
   "metadata": {},
   "outputs": [],
   "source": [
    "#TODO: prettyfy this notebook. All stuff is here except Hicks"
   ]
  },
  {
   "cell_type": "code",
   "execution_count": 2,
   "metadata": {},
   "outputs": [],
   "source": [
    "import numpy as np\n",
    "import matplotlib.pyplot as plt\n",
    "from scipy.optimize import minimize, NonlinearConstraint\n",
    "\n",
    "from consav.linear_interp import interp_1d"
   ]
  },
  {
   "cell_type": "code",
   "execution_count": 3,
   "metadata": {},
   "outputs": [],
   "source": [
    "# per-period utility\n",
    "def util(C,h,par):\n",
    "    return (C**(1+par.eta))/(1+par.eta) - par.beta*(h**(1+par.gamma))/(1+par.gamma)\n",
    "\n",
    "def cons2(h2,w2,N2,b,par):\n",
    "    return (1.0-par.tau)*w2*h2 + N2 - (1+par.r)*b\n",
    "\n",
    "def value_of_choice1(C1,h1,w1,N1,V2,par):\n",
    "    \n",
    "    # current period utility\n",
    "    u1 = util(C1,h1,par)\n",
    "    \n",
    "    # implied borrowing\n",
    "    b = -((1.0-par.tau)*w1*h1 + N1 - C1)\n",
    "    \n",
    "    # next-period value of this level of b\n",
    "    V2_interp = interp_1d(par.b_grid,V2,b)\n",
    "    \n",
    "    # discounted value\n",
    "    return u1 + par.rho*V2_interp\n",
    "\n",
    "# solution\n",
    "def solve(w1,w2,N1,N2,par):\n",
    "    \n",
    "    # last period\n",
    "    V2 = np.nan + np.ones(par.b_grid.size)\n",
    "    h2_vec = np.nan + np.ones(par.b_grid.size)\n",
    "    h2_init = np.array([20.0])\n",
    "    for ib,b in enumerate(par.b_grid):\n",
    "        obj2 = lambda h: -util( cons2(h,w2,N2,b,par) , h,par)\n",
    "        if ib>0: h2_init = np.array(h2_vec[ib-1])\n",
    "        \n",
    "        # constraints: ensure positive consumption\n",
    "        bounds = ((0.0,200.0),)\n",
    "        constr = lambda h: cons2(h,w2,N2,b,par) \n",
    "        nlc = NonlinearConstraint(constr, lb=0.0, ub=np.inf,keep_feasible=True)\n",
    "        \n",
    "        res = minimize(obj2,h2_init,bounds=bounds,constraints=nlc,method='trust-constr')\n",
    "        h2_vec[ib] = res.x[0]\n",
    "        V2[ib] = -res.fun\n",
    "        \n",
    "        \n",
    "    # first period\n",
    "    obj1 = lambda x: -value_of_choice1(x[0],x[1],w1,N1,V2,par)\n",
    "    init = np.array([1.0,2.0])\n",
    "    bounds = ((0.0001,2000.0),(0.0,2000.0))\n",
    "\n",
    "    res = minimize(obj1,init,bounds=bounds,method='trust-constr')\n",
    "    C1 = res.x[0]\n",
    "    h1 = res.x[1]\n",
    "    V1 = -res.fun\n",
    "    \n",
    "    return C1,h1,h2_vec"
   ]
  },
  {
   "cell_type": "code",
   "execution_count": 4,
   "metadata": {},
   "outputs": [],
   "source": [
    "# parameters \n",
    "class par: pass\n",
    "par.beta = 0.1\n",
    "par.eta = -2.0\n",
    "par.gamma = 2.5\n",
    "par.tau = 0.1\n",
    "par.r = 0.02\n",
    "par.rho = 1/(1+par.r)\n",
    "\n",
    "# grid of wealth\n",
    "par.b_grid = np.linspace(-5.0,5.0,100)"
   ]
  },
  {
   "cell_type": "code",
   "execution_count": 5,
   "metadata": {},
   "outputs": [
    {
     "name": "stderr",
     "output_type": "stream",
     "text": [
      "C:\\Users\\bnl429\\Anaconda3\\lib\\site-packages\\scipy\\optimize\\_hessian_update_strategy.py:182: UserWarning: delta_grad == 0.0. Check if the approximated function is linear. If the function is linear better results can be obtained by defining the Hessian as zero instead of using quasi-Newton approximations.\n",
      "  warn('delta_grad == 0.0. Check if the approximated '\n"
     ]
    }
   ],
   "source": [
    "# find optimal labor supply for a given level of wages and non-labor income\n",
    "w1 = 1.0\n",
    "w2 = 1.0\n",
    "N1 = 0.0 # non-labor income. Important for strength of income effect\n",
    "N2 = 0.0 # non-labor income. Important for strength of income effect\n",
    "C1,h1,h2_vec = solve(w1,w2,N1,N2,par)"
   ]
  },
  {
   "cell_type": "code",
   "execution_count": 6,
   "metadata": {},
   "outputs": [
    {
     "data": {
      "image/png": "[encoded data removed]",
      "text/plain": [
       "<Figure size 432x288 with 1 Axes>"
      ]
     },
     "metadata": {
      "needs_background": "light"
     },
     "output_type": "display_data"
    }
   ],
   "source": [
    "plt.plot(par.b_grid,h2_vec);"
   ]
  },
  {
   "cell_type": "code",
   "execution_count": 7,
   "metadata": {},
   "outputs": [
    {
     "name": "stdout",
     "output_type": "stream",
     "text": [
      "C1=1.537, C2=1.537\n"
     ]
    }
   ],
   "source": [
    "# consumption should be rather constant across periods for this parametrization\n",
    "b = -((1.0-par.tau)*w1*h1 + N1 - C1)\n",
    "h2 = interp_1d(par.b_grid,h2_vec,b)\n",
    "C2 = cons2(h2,w2,N2,b,par)\n",
    "print(f'C1={C1:2.3f}, C2={C2:2.3f}')"
   ]
  },
  {
   "cell_type": "code",
   "execution_count": 8,
   "metadata": {},
   "outputs": [
    {
     "name": "stderr",
     "output_type": "stream",
     "text": [
      "C:\\Users\\bnl429\\Anaconda3\\lib\\site-packages\\scipy\\optimize\\_hessian_update_strategy.py:182: UserWarning: delta_grad == 0.0. Check if the approximated function is linear. If the function is linear better results can be obtained by defining the Hessian as zero instead of using quasi-Newton approximations.\n",
      "  warn('delta_grad == 0.0. Check if the approximated '\n"
     ]
    },
    {
     "name": "stdout",
     "output_type": "stream",
     "text": [
      "e_M=-0.222, e_M1_sim=-0.221\n"
     ]
    }
   ],
   "source": [
    "# Marshall elasticity\n",
    "# theoretical (when rho=1/(1+r) and N1=N2=0)\n",
    "ela_M = (1+par.eta) / (par.gamma - par.eta)\n",
    "\n",
    "# simulate permanent increase\n",
    "C1_,h1_1pct,h2_ = solve(w1*1.01,w2*1.01,N1,N2,par)\n",
    "ela_M1_sim = (h1_1pct-h1)/h1*100\n",
    "\n",
    "print(f'e_M={ela_M:2.3f}, e_M1_sim={ela_M1_sim:2.3f}')"
   ]
  },
  {
   "cell_type": "code",
   "execution_count": 9,
   "metadata": {},
   "outputs": [
    {
     "name": "stderr",
     "output_type": "stream",
     "text": [
      "C:\\Users\\bnl429\\Anaconda3\\lib\\site-packages\\scipy\\optimize\\_hessian_update_strategy.py:182: UserWarning: delta_grad == 0.0. Check if the approximated function is linear. If the function is linear better results can be obtained by defining the Hessian as zero instead of using quasi-Newton approximations.\n",
      "  warn('delta_grad == 0.0. Check if the approximated '\n"
     ]
    },
    {
     "name": "stdout",
     "output_type": "stream",
     "text": [
      "e_F=0.400, e_F1_sim=0.399\n"
     ]
    }
   ],
   "source": [
    "# Frisch elasticity\n",
    "ela_F = 1/par.gamma\n",
    "\n",
    "# simulate transitory increase\n",
    "C1_,h1_F,h2_ = solve(w1*1.01,w2,N1,N2,par)\n",
    "ela_F1_sim = (h1_F-h1)/h1*100\n",
    "\n",
    "print(f'e_F={ela_F:2.3f}, e_F1_sim={ela_F1_sim:2.3f}')"
   ]
  },
  {
   "cell_type": "code",
   "execution_count": null,
   "metadata": {},
   "outputs": [],
   "source": [
    "# Hicks\n",
    "ela_H = 1/(par.gamma - par.eta)\n",
    "\n",
    "# compensate..."
   ]
  }
 ],
 "metadata": {
  "kernelspec": {
   "display_name": "Python 3",
   "language": "python",
   "name": "python3"
  },
  "language_info": {
   "codemirror_mode": {
    "name": "ipython",
    "version": 3
   },
   "file_extension": ".py",
   "mimetype": "text/x-python",
   "name": "python",
   "nbconvert_exporter": "python",
   "pygments_lexer": "ipython3",
   "version": "3.8.3"
  }
 },
 "nbformat": 4,
 "nbformat_minor": 5
}
