{
 "cells": [
  {
   "attachments": {},
   "cell_type": "markdown",
   "metadata": {},
   "source": [
    "# Limited Commitment Model\n",
    "In this simple example, singlehood is absorbing and couples choose\n",
    "individual consumption, $c_{j,t}$ for $j\\in\\{w,m\\}$ and public consumption,\n",
    "$c_{t}$. Individual preferences are of the CES type,\n",
    "\\begin{align*}\n",
    "U_{j}(c_{j,t},c_{t}) & =\\frac{1}{1-\\rho_{j}}\\left(\\alpha_{1,j}c_{j,t}^{\\phi_{j}}+\\alpha_{2,j}c_{t}^{\\phi_{j}}\\right)^{1-\\rho_{j}}\n",
    "\\end{align*}\n",
    "and the household budget for a couple is\n",
    "$$\n",
    "A_{t}+c_{t}+c_{w,t}+c_{m,t}=RA_{t-1}+Y_{w,t}+Y_{m,t}\n",
    "$$\n",
    "where $Y_{j,t}$ is exogenous income of member $j$, and $A_{t-1}$\n",
    "is beginning of period $t$ wealth. In each period, the couple receives\n",
    "a random value of remaining as a couple, $\\psi_{t}$, which follows\n",
    "a unit-root process,\n",
    "$$\n",
    "\\psi_{t+1}=\\psi_{t}+\\varepsilon_{t+1}\n",
    "$$\n",
    "where $\\varepsilon_{t}\\sim iid\\mathcal{N}(0,\\sigma_{\\psi}^{2})$.\n",
    "This love-shock is the only source of uncertainty in the model. The\n",
    "state variables for a couple is then $\\mathcal{S}_{t}=(\\psi_{t},A_{t-1})$\n",
    "besides the bargaining power coming into the period, $\\mu_{t-1}$.\n",
    "\n",
    "**The value of entering a period as a couple** is then\n",
    "$$\n",
    "V_{j,t}^{m}(\\psi_{t},A_{t-1},\\mu_{t-1})=D_{t}^{\\star}V_{j,t}^{m\\rightarrow s}(\\kappa_{j}A_{t-1})+(1-D_{t}^{\\star})V_{j,t}^{m\\rightarrow m}(\\psi_{t},A_{t-1},\\mu_{t-1})\n",
    "$$\n",
    "where $\\kappa_{j}$ is the share of household wealth member $j$ gets\n",
    "in case of divorce ($\\kappa_{w}+\\kappa_{m}=1$). The choice to divorce,\n",
    "$D_{t}^{\\star}$, is discussed below.\n",
    "\n",
    "**The value of transitioning into singlehood** is\n",
    "\\begin{align*}\n",
    "V_{j,t}^{m\\rightarrow s}(A_{t-1}) & =\\max_{c_{j,t},c_{t}}U_{j}(c_{j,t},c_{t})+\\beta V_{j,t+1}^{s}(A_{t})\\\\\n",
    " & \\text{s.t.}\\\\\n",
    "A_{t} & =RA_{t-1}+Y_{j,t}-c_{t}-c_{j,t}\n",
    "\\end{align*}\n",
    "where $V_{j,t+1}^{s}(A_{t})=V_{j,t+1}^{m\\rightarrow s}(A_{t})$ since\n",
    "singlehood is absorbing.\n",
    "\n",
    "**The value of remaining married** is\n",
    "\\begin{align*}\n",
    "V_{j,t}^{m\\rightarrow m}(\\psi_{t},A_{t-1},\\mu_{t-1}) & =U_{j}(c_{j,t}^{\\star},c_{t}^{\\star})+\\psi_{t}+\\beta\\mathbb{E}_{t}[V_{j,t+1}^{m}(\\psi_{t+1},A_{t},\\mu_{t})]\\\\\n",
    " & \\text{s.t.}\\\\\n",
    "A_{t} & =RA_{t-1}+Y_{w,t}+Y_{m,t}-(c_{t}^{\\star}+c_{w,t}^{\\star}+c_{m,t}^{\\star})\\\\\n",
    "\\psi_{t+1} & =\\psi_{t}+\\varepsilon_{t+1}\n",
    "\\end{align*}\n",
    "where $(c_{w,t}^{\\star},c_{m,t}^{\\star},c_{t}^{\\star})$ and $\\mu_{t}$\n",
    "are found along with $D_{t}^{\\star}$ in the following way.\n",
    "\n",
    "Let the solution to a problem of couples, under the condition that\n",
    "they remain together taking the bargaining power, $\\mu$, be\n",
    "\\begin{align*}\n",
    "\\tilde{c}_{w,t}(\\mu),\\tilde{c}_{m,t}(\\mu),\\tilde{c}_{t}(\\mu) & =\\arg\\max_{c_{w,t},c_{m,t},c_{t}}\\mu v_{w,t}(\\psi_{t},A_{t-1},c_{w,t},c_{m,t},c_{t},\\mu)\\\\\n",
    " & +(1-\\mu)v_{m,t}(\\psi_{t},A_{t-1},c_{w,t},c_{m,t},c_{t},\\mu)\\\\\n",
    " & \\text{s.t.}\\\\\n",
    "A_{t} & =RA_{t-1}+Y_{w,t}+Y_{m,t}-(c_{t}+c_{w,t}+c_{m,t})\\\\\n",
    "\\psi_{t+1} & =\\psi_{t}+\\varepsilon_{t+1},\\:\\varepsilon_{t}\\sim iid\\mathcal{N}(0,\\sigma_{\\psi}^{2})\n",
    "\\end{align*}\n",
    "where the value-of-choice given some $\\mu$ is\n",
    "\\begin{align}\n",
    "v_{j,t}(\\psi_{t},A_{t-1},\\mu,c_{w,t},c_{m,t},c_{t}) & =U_{j}(c_{j,t},c_{t})+\\psi_{t}+\\beta\\mathbb{E}_{t}[V_{j,t+1}^{m}(\\psi_{t+1},A_{t},\\mu)].\n",
    "\\end{align}\n",
    "\n",
    "First, solve the unconstrained problem under the assumption that none\n",
    "of the participation constraints are violated, such that $\\mu=\\mu_{t}=\\mu_{t-1}$.\n",
    "This gives $\\tilde{c}_{w,t}(\\mu_{t-1}),\\tilde{c}_{m,t}(\\mu_{t-1}),\\tilde{c}_{t}(\\mu_{t-1})$\n",
    "and individual values of marriage as $v_{j,t}(\\psi_{t},A_{t-1},\\mu_{t-1},\\tilde{c}_{w,t}(\\mu_{t-1}),\\tilde{c}_{m,t}(\\mu_{t-1}),\\tilde{c}_{t}(\\mu_{t-1}))$. \n",
    "\n",
    "**Checking the Participation Constraint**\n",
    "Secondly, check the participation constraints for three cases. For\n",
    "this purpose let \n",
    "$$\n",
    "S_{j,t}(\\mu)=S_{j,t}(\\psi_{t},A_{t-1},\\mu,c_{w,t},c_{m,t},c_{t})=v_{j,t}(\\psi_{t},A_{t-1},\\mu,c_{w,t},c_{m,t},c_{t})-V_{j,t}^{m\\rightarrow s}(\\kappa_{j}A_{t-1})\n",
    "$$\n",
    "denote the marital surplus of household member $j$. The three cases\n",
    "are\n",
    "\n",
    "1. If $S_{j,t}(\\mu_{t-1})\\geq0$ for both $j=w,m$, they remain married\n",
    "and keep the bargaining power unchanged. In turn, I  have $\\mu_{t}=\\mu_{t-1}$,\n",
    "$(c_{w,t}^{\\star},c_{m,t}^{\\star},c_{t}^{\\star})=(\\tilde{c}_{w,t}(\\mu_{t-1}),\\tilde{c}_{m,t}(\\mu_{t-1}),\\tilde{c}_{t}(\\mu_{t-1}))$,\n",
    "and $D_{t}^{\\star}=0$.\n",
    "2. If $S_{j,t}(\\mu_{t-1})<0$ for both $j=w,m$, they divorce. In turn\n",
    "$D_{t}^{\\star}=1$ and only $V_{j,t}^{m\\rightarrow s}(A_{t-1})$ matters.\n",
    "3. If one household member, say the woman, has a negative marital surplus\n",
    "while the man has a positive marital surplus, they re-negotiate $\\mu_{t}$.\n",
    "They do so by finding the lowest value $\\tilde{\\mu}$ that solves $$ \\tilde{\\mu}:S_{w,t}(\\tilde{\\mu})=0 $$ \n",
    "making her just indifferent between remaining married and divorcing.\n",
    "If the man also has a positive surplus for this value, $S_{m,t}(\\tilde{\\mu})\\geq0$,\n",
    "they remain married and increase the bargaining power of the woman.\n",
    "In turn, $\\mu_{t}=\\tilde{\\mu}$, $(c_{w,t}^{\\star},c_{m,t}^{\\star},c_{t}^{\\star})=(\\tilde{c}_{w,t}(\\tilde{\\mu}),\\tilde{c}_{m,t}(\\tilde{\\mu}),\\tilde{c}_{t}(\\tilde{\\mu}))$,\n",
    "and $D_{t}^{\\star}=0$. If, on the other hand, $S_{m,t}(\\tilde{\\mu})<0$,\n",
    "there is no value of $\\mu$ that can sustain the marriage, and the\n",
    "couple sets $D_{t}^{\\star}=1$.\n"
   ]
  },
  {
   "cell_type": "code",
   "execution_count": 13,
   "metadata": {},
   "outputs": [
    {
     "name": "stdout",
     "output_type": "stream",
     "text": [
      "The autoreload extension is already loaded. To reload it, use:\n",
      "  %reload_ext autoreload\n"
     ]
    }
   ],
   "source": [
    "%load_ext autoreload\n",
    "%autoreload 2\n",
    "\n",
    "import numpy as np\n",
    "from mpl_toolkits import mplot3d\n",
    "import matplotlib\n",
    "import matplotlib.pyplot as plt\n",
    "\n",
    "import Bargaining as brg\n",
    "\n",
    "# plot style\n",
    "linestyles = ['-','--','-.',':',':']\n",
    "markers = ['o','s','D','*','P']\n",
    "linewidth = 2\n",
    "font_size = 17\n",
    "font = {'size':font_size}\n",
    "matplotlib.rc('font', **font)\n",
    "\n",
    "plt.rcParams.update({'figure.max_open_warning': 0,'text.usetex': False})\n"
   ]
  },
  {
   "cell_type": "markdown",
   "metadata": {},
   "source": [
    "# Solve and simulate from alternative models"
   ]
  },
  {
   "cell_type": "code",
   "execution_count": 14,
   "metadata": {},
   "outputs": [],
   "source": [
    "# settings for models to solve\n",
    "T = 8\n",
    "specs = {\n",
    "    'model 1':{'latexname':'$\\kappa_w=0.5$', 'par':{'sigma_love':0.1,'T':T,'div_A_share':0.5}},\n",
    "    'model 2':{'latexname':'$\\kappa_w=0.1$', 'par':{'sigma_love':0.1,'T':T,'div_A_share':0.1}},\n",
    "}\n"
   ]
  },
  {
   "cell_type": "code",
   "execution_count": 15,
   "metadata": {},
   "outputs": [
    {
     "name": "stdout",
     "output_type": "stream",
     "text": [
      "solving model 1...\n"
     ]
    }
   ],
   "source": [
    "# solve different models (takes several minutes)\n",
    "models = {}\n",
    "for name,spec in specs.items():\n",
    "    print(f'solving {name}...')\n",
    "    \n",
    "    # setup model\n",
    "    models[name] = brg.HouseholdModelClass(name=name,par=spec['par'])\n",
    "    models[name].spec = spec\n",
    "    \n",
    "    # solve\n",
    "    models[name].solve()"
   ]
  },
  {
   "cell_type": "markdown",
   "metadata": {},
   "source": [
    "# Simulated paths"
   ]
  },
  {
   "attachments": {},
   "cell_type": "markdown",
   "metadata": {},
   "source": [
    "**Questions:**\n",
    "1. Why is the average love in couple increasing over the life cycle?\n",
    "2. How does wealth accumulation depend on initial power and distribution upon divorce?"
   ]
  },
  {
   "cell_type": "code",
   "execution_count": null,
   "metadata": {},
   "outputs": [],
   "source": [
    "var_list = ('power','love','couple','Cw_priv','Cm_priv','Cw_pub','C_tot','A')\n",
    "model_list = ('model 1','model 2')\n",
    "\n",
    "par = models[name].par\n",
    "for init_power_idx in (5,10):\n",
    "    for init_love in (0.0,0.2): \n",
    "        string = f'init. power:{par.grid_power[init_power_idx]:2.3f}, love:{init_love:2.2f}'\n",
    "\n",
    "        for i,name in enumerate(model_list):\n",
    "            model = models[name]\n",
    "\n",
    "            # show how starting of in a low bargaining power gradually improves\n",
    "            model.sim.init_power_idx[:] = init_power_idx\n",
    "            model.sim.init_love[:] = init_love \n",
    "            model.simulate()\n",
    "            \n",
    "        for var in var_list:\n",
    "\n",
    "            fig, ax = plt.subplots()\n",
    "            \n",
    "            for i,name in enumerate(model_list):\n",
    "                model = models[name]\n",
    "\n",
    "                # pick out couples (if not the share of couples is plotted)\n",
    "                if var == 'couple':\n",
    "                    nan = 0.0\n",
    "                else:\n",
    "                    I = model.sim.couple<1\n",
    "                    nan = np.zeros(I.shape)\n",
    "                    nan[I] = np.nan\n",
    "\n",
    "                # pick relevant variable for couples\n",
    "                y = getattr(model.sim,var)        \n",
    "                y = np.nanmean(y + nan,axis=0)\n",
    "\n",
    "                ax.plot(y,marker=markers[i],linestyle=linestyles[i],linewidth=linewidth,label=model.spec['latexname']);\n",
    "                ax.set(xlabel='age',ylabel=f'{var}',title=string);\n",
    "\n",
    "            plt.legend()\n",
    "            plt.tight_layout()\n",
    "                "
   ]
  }
 ],
 "metadata": {
  "kernelspec": {
   "display_name": "base",
   "language": "python",
   "name": "python3"
  },
  "language_info": {
   "codemirror_mode": {
    "name": "ipython",
    "version": 3
   },
   "file_extension": ".py",
   "mimetype": "text/x-python",
   "name": "python",
   "nbconvert_exporter": "python",
   "pygments_lexer": "ipython3",
   "version": "3.8.3"
  },
  "vscode": {
   "interpreter": {
    "hash": "2a1ca330d9582a7d9f549c991d1ebe88efa30325a2a9c927421566fc2176e6bd"
   }
  }
 },
 "nbformat": 4,
 "nbformat_minor": 4
}
