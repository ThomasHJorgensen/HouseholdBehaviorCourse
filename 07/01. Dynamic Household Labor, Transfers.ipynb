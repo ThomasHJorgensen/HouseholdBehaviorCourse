{
 "cells": [
  {
   "attachments": {},
   "cell_type": "markdown",
   "metadata": {},
   "source": [
    "# Life-Cycle Labor Supply of Couples with Children"
   ]
  },
  {
   "attachments": {},
   "cell_type": "markdown",
   "metadata": {},
   "source": [
    "Solves and simulates a $T$-period labor supply model with two-earner couples. <br>\n",
    "**Motivated** by the study “Child-Related Transfers, Household Labor Supply and Welfare” by [Guner et al. (2020)](https://academic.oup.com/restud/article/87/5/2290/5809564). <br>\n",
    "**Goal** is to replicate effects of child-related transfers.\n",
    "\n",
    "For simplicity, couples cannot divorce nor save.\n",
    "\n",
    "The **Bellman equation** and the recursive formulation of our simple model is \n",
    "$$\n",
    "\\begin{align*}\n",
    "V_{t}(n_{t},K_{1,t},K_{2,t}) & =\\max_{h_{1,t},h_{2,t}}U(c_{t},h_{1,t},h_{2,t},n_{t})\\\\\n",
    " & \\qquad\\qquad+\\beta\\mathbb{E}_{t}[V_{t+1}(n_{t+1},K_{1,t+1},K_{2,t+1})]\\\\\n",
    "c_{t} & =\\sum_{j=1}^{2}w_{j,t}h_{j,t}-T(w_{1,t}h_{1,t},w_{2,t}h_{2,t})\\\\\n",
    " & \\qquad+\\mathcal{C}(n_{t},h_{1,t},h_{2,t},w_{1,t},w_{2,t})\\\\\n",
    "n_{t+1} & =\\begin{cases}\n",
    "\\begin{array}{ll}\n",
    "1 & \\text{with prob. } p(n_{t})\\\\\n",
    "0 & \\text{with prob. } 1-p(n_{t})\n",
    "\\end{array}\\end{cases}\\\\\n",
    "\\log w_{j,t} & =\\alpha_{j,0}+\\alpha_{j,1}K_{j,t},\\;j\\in\\{1,2\\}\\\\\n",
    "K_{j,t+1} & =(1-\\delta)K_{j,t}+h_{j,t},\\;j\\in\\{1,2\\}\n",
    "\\end{align*}\n",
    "$$\n",
    "\n",
    "**Child-related transfers:** We assume that if both work, they have to buy childcare. <br>\n",
    "This means that conditional transfers are always a subsidy (cannot do 5 or 6 in taxonomy of Guner et al. (2020)). <br>\n",
    "Child-related transfers are\n",
    "$$\n",
    "\\begin{align*}\n",
    "\\mathcal{C}(n_{t},h_{1,t},h_{2,t},w_{1,t},w_{2,t}) & =\\mathcal{C}_{1}(n_{t})+\\mathcal{C}_{2}(n_{t},Y_{t})\\\\\n",
    " & +[\\mathcal{C}_{3}(n_{t})+\\mathcal{C}_{4}(n_{t},Y_{t})]\\cdot\\mathbf{1}(h_{1,t}\\cdot h_{2,t}>0)\n",
    "\\end{align*}\n",
    "$$\n",
    "where household income is\n",
    "$$\n",
    "Y_{t}=\\sum_{j=1}^{2}w_{j,t}h_{j,t}.\n",
    "$$\n",
    "\n",
    "The code could look something like\n",
    "```python\n",
    "def child_tran(self,hours1,hours2,income_hh,kids):\n",
    "    par = self.par\n",
    "    if kids<1:\n",
    "        return 0.0\n",
    "    \n",
    "    else:\n",
    "        C1 = par.uncon_uni                           #unconditional, universal transfer (>0)\n",
    "        C2 = np.fmax(par.means_level - par.means_slope*income_hh , 0.0) #means-tested transfer (>0)\n",
    "        # child-care related (net-of-subsidy costs)\n",
    "        both_work = (hours1>0) * (hours2>0)\n",
    "        C3 = par.cond*both_work                      #all working couples has this net cost (<0)\n",
    "        C4 = par.cond_high*both_work*(income_hh>0.5) #low-income couples do not have this net-cost (<0)\n",
    "\n",
    "    return C1+C2+C3+C4\n",
    "```\n",
    "\n",
    "**Preferences** are sum of individuals\n",
    "$$\n",
    "U(c_{t},h_{1,t},h_{2,t})=2\\frac{(c_{t}/2)^{1+\\eta}}{1+\\eta}-\\rho_{1}(n_{t})\\frac{h_{1,t}^{1+\\gamma}}{1+\\gamma}-\\rho_{2}(n_{t})\\frac{h_{2,t}^{1+\\gamma}}{1+\\gamma}\n",
    "$$\n",
    "with \n",
    "$$\n",
    "\\rho_{j}(n_{t})=\\rho_{0,j}+\\rho_{1,j}n_{t}\n",
    "$$\n",
    "\n",
    "**Taxes** are on the household level and child-related transfers/costs are included in taxable income\n",
    "$$\n",
    "T(\\tilde{Y})=(1-\\lambda(\\tilde{Y})^{-\\tau})\\cdot(\\tilde{Y})\n",
    "$$\n",
    "where $\\tilde{Y} = Y + \\mathcal{C}(n_{t},h_{1,t},h_{2,t},w_{1,t},w_{2,t})$.\n",
    "\n",
    "**Expected value** is\n",
    "$$\n",
    "\\begin{align*}\n",
    "\\mathbb{E}_{t}[V_{t+1}(n_{t+1},K_{1,t+1},K_{2,t+1})] & =p(n_{t})V_{t+1}(n_{t}+1,K_{1,t+1},K_{2,t+1})\\\\\n",
    " & +(1-p(n_{t}))V_{t+1}(n_{t},K_{1,t+1},K_{2,t+1})\n",
    "\\end{align*}\n",
    "$$\n",
    "\n",
    "**Terminal period:** There are no bequests such that\n",
    "$$\n",
    "V_{T}(n_T,K_{1,T},K_{2,T})  =\\max_{h_{1,T},h_{2,T}}U(c_{T},h_{1,T},h_{2,T})\n",
    "$$"
   ]
  },
  {
   "cell_type": "markdown",
   "metadata": {},
   "source": [
    "## Setup"
   ]
  },
  {
   "cell_type": "code",
   "execution_count": 180,
   "metadata": {},
   "outputs": [
    {
     "name": "stdout",
     "output_type": "stream",
     "text": [
      "The autoreload extension is already loaded. To reload it, use:\n",
      "  %reload_ext autoreload\n"
     ]
    }
   ],
   "source": [
    "%load_ext autoreload\n",
    "%autoreload 2\n",
    "\n",
    "import numpy as np\n",
    "import numba as nb\n",
    "\n",
    "import matplotlib.pyplot as plt\n",
    "from mpl_toolkits import mplot3d"
   ]
  },
  {
   "cell_type": "markdown",
   "metadata": {},
   "source": [
    "# Dual-Earner Model with Children"
   ]
  },
  {
   "cell_type": "code",
   "execution_count": null,
   "metadata": {},
   "outputs": [],
   "source": [
    "# load local model file and initialize model class\n",
    "# -> copy .py-module from last time and modify it!"
   ]
  },
  {
   "attachments": {},
   "cell_type": "markdown",
   "metadata": {},
   "source": [
    "# Simulate child-related transfers reforms"
   ]
  },
  {
   "cell_type": "code",
   "execution_count": null,
   "metadata": {},
   "outputs": [],
   "source": [
    "# modify code and run it..."
   ]
  }
 ],
 "metadata": {
  "kernelspec": {
   "display_name": "Python 3",
   "language": "python",
   "name": "python3"
  },
  "language_info": {
   "codemirror_mode": {
    "name": "ipython",
    "version": 3
   },
   "file_extension": ".py",
   "mimetype": "text/x-python",
   "name": "python",
   "nbconvert_exporter": "python",
   "pygments_lexer": "ipython3",
   "version": "3.8.10 (default, May 19 2021, 13:12:57) [MSC v.1916 64 bit (AMD64)]"
  },
  "toc-autonumbering": true,
  "vscode": {
   "interpreter": {
    "hash": "2a1ca330d9582a7d9f549c991d1ebe88efa30325a2a9c927421566fc2176e6bd"
   }
  }
 },
 "nbformat": 4,
 "nbformat_minor": 4
}
